{
 "cells": [
  {
   "cell_type": "code",
   "execution_count": 1,
   "id": "8594fec2-4c74-48d5-8c18-698cde3b4fab",
   "metadata": {},
   "outputs": [
    {
     "name": "stdout",
     "output_type": "stream",
     "text": [
      "Tushti\n"
     ]
    }
   ],
   "source": [
    "#CREATING CLASS\n",
    "\n",
    "class Student: #always start from upper case\n",
    "    name = \"Tushti\"\n",
    "\n",
    "#creating object(instance)\n",
    "\n",
    "f1=Student()\n",
    "print(f1.name)\n",
    "\n"
   ]
  },
  {
   "cell_type": "code",
   "execution_count": 7,
   "id": "643666a2-0f5b-4bf5-9f69-b84331f6371a",
   "metadata": {},
   "outputs": [
    {
     "name": "stdout",
     "output_type": "stream",
     "text": [
      "Apple\n",
      "Orange\n",
      "Cherry\n"
     ]
    }
   ],
   "source": [
    "class Fruits:\n",
    "    a=\"Apple\"\n",
    "    b=\"Orange\"\n",
    "    c=\"Cherry\"\n",
    "\n",
    "f2=Fruits()\n",
    "\n",
    "print(f2.a)\n",
    "print(f2.b)\n",
    "print(f2.c)"
   ]
  },
  {
   "cell_type": "code",
   "execution_count": 8,
   "id": "7df5cbe2-4b32-4eec-bf43-3af7b68d5109",
   "metadata": {},
   "outputs": [
    {
     "name": "stdout",
     "output_type": "stream",
     "text": [
      "Tushti\n",
      "18\n",
      "Data Science\n"
     ]
    }
   ],
   "source": [
    "class Student:\n",
    "    name = \"Tushti\"\n",
    "    age = 18\n",
    "    department = \"Data Science\"\n",
    "\n",
    "f3=Student()\n",
    "\n",
    "print(f3.name)\n",
    "print(f3.age)\n",
    "print(f3.department)\n",
    "    "
   ]
  },
  {
   "cell_type": "code",
   "execution_count": 5,
   "id": "6bfe67aa-7cdb-4583-ae45-4bb94c38d9d6",
   "metadata": {},
   "outputs": [
    {
     "name": "stdout",
     "output_type": "stream",
     "text": [
      "Tushti 18\n",
      "Vanshika 17\n",
      "Mayank 26\n",
      "Prachi 20\n",
      "Kajal 24\n"
     ]
    }
   ],
   "source": [
    "class Student():\n",
    "    def __init__(self,name,age):\n",
    "        self.name=name\n",
    "        self.age=age\n",
    "\n",
    "s1 = Student(\"Tushti\",18)\n",
    "print(s1.name,s1.age)\n",
    "\n",
    "s2 = Student(\"Vanshika\",17)\n",
    "print(s2.name,s2.age)\n",
    "\n",
    "s3 = Student(\"Mayank\",26)\n",
    "print(s3.name,s3.age)\n",
    "\n",
    "s4 = Student(\"Prachi\",20)\n",
    "print(s4.name,s4.age)\n",
    "\n",
    "s5 = Student(\"Kajal\",24)\n",
    "print(s5.name,s5.age)"
   ]
  },
  {
   "cell_type": "code",
   "execution_count": 9,
   "id": "0cf9fef2-252b-41c7-838e-396398a12306",
   "metadata": {},
   "outputs": [
    {
     "name": "stdout",
     "output_type": "stream",
     "text": [
      "Tushti SODS\n",
      "Ritik SOA\n",
      "Vanshika Cinema\n",
      "Mayank Modelling\n",
      "Divya SODS\n"
     ]
    }
   ],
   "source": [
    "class College():\n",
    "    def __init__(self,name,department):\n",
    "        self.name=name\n",
    "        self.department=department\n",
    "\n",
    "c1= College(\"Tushti\",\"SODS\")\n",
    "print(c1.name,c1.department)\n",
    "\n",
    "c2= College(\"Ritik\",\"SOA\")\n",
    "print(c2.name,c2.department)\n",
    "\n",
    "c3= College(\"Vanshika\",\"Cinema\")\n",
    "print(c3.name,c3.department)\n",
    "\n",
    "c4= College(\"Mayank\",\"Modelling\")\n",
    "print(c4.name,c4.department)\n",
    "\n",
    "c5= College(\"Divya\",\"SODS\")\n",
    "print(c5.name,c5.department)\n",
    "\n"
   ]
  },
  {
   "cell_type": "code",
   "execution_count": 11,
   "id": "09b786eb-7f75-45f4-8a40-d001e97c9e21",
   "metadata": {},
   "outputs": [
    {
     "name": "stdout",
     "output_type": "stream",
     "text": [
      "Apple Red\n",
      "Orange Orange\n",
      "Grapes Green\n",
      "Banana Yellow\n",
      "Cherry Red\n"
     ]
    }
   ],
   "source": [
    "class Fruits():\n",
    "    def __init__(self,name,colour):\n",
    "        self.name=name\n",
    "        self.colour=colour\n",
    "\n",
    "f1= Fruits(\"Apple\",\"Red\")\n",
    "print(f1.name,f1.colour)\n",
    "\n",
    "f2= Fruits(\"Orange\",\"Orange\")\n",
    "print(f2.name,f2.colour)\n",
    "\n",
    "f3= Fruits(\"Grapes\",\"Green\")\n",
    "print(f3.name,f3.colour)\n",
    "\n",
    "f4= Fruits(\"Banana\",\"Yellow\")\n",
    "print(f4.name,f4.colour)\n",
    "\n",
    "f5= Fruits(\"Cherry\",\"Red\")\n",
    "print(f5.name,f5.colour)"
   ]
  },
  {
   "cell_type": "code",
   "execution_count": 13,
   "id": "fdd02c5c-e048-4f2a-909d-84c9a344e02d",
   "metadata": {},
   "outputs": [
    {
     "name": "stdout",
     "output_type": "stream",
     "text": [
      "INCIDIOUS HORROR\n",
      "LA LA LAND ROMANTIC\n",
      "1920 HORROR\n",
      "CONJURING HORROR\n",
      "NOTEBOOK ROMANTIC\n"
     ]
    }
   ],
   "source": [
    "class Movies():\n",
    "    def __init__(self,name,genre):\n",
    "        self.name=name\n",
    "        self.genre=genre\n",
    "\n",
    "m1= Movies(\"INCIDIOUS\",\"HORROR\")\n",
    "print(m1.name,m1.genre)\n",
    "\n",
    "m2= Movies(\"LA LA LAND\",\"ROMANTIC\")\n",
    "print(m2.name,m2.genre)\n",
    "\n",
    "m3= Movies(\"1920\",\"HORROR\")\n",
    "print(m3.name,m3.genre)\n",
    "\n",
    "m4= Movies(\"CONJURING\",\"HORROR\")\n",
    "print(m4.name,m4.genre)\n",
    "\n",
    "m5= Movies(\"NOTEBOOK\",\"ROMANTIC\")\n",
    "print(m5.name,m5.genre)\n",
    "\n"
   ]
  },
  {
   "cell_type": "code",
   "execution_count": 7,
   "id": "e07809ae-1275-4981-8001-ca97eb3a6f53",
   "metadata": {},
   "outputs": [
    {
     "name": "stdout",
     "output_type": "stream",
     "text": [
      "BMW Z4 75kwh\n",
      "MG Z5 74kwh\n",
      "Toyota Fortuner 70kwh\n",
      "Honda Civic 80kwh\n"
     ]
    }
   ],
   "source": [
    "class car:\n",
    "    def __init__(self,brand,model):\n",
    "        self.brand=brand\n",
    "        self.model=model\n",
    "\n",
    "class ElectricCar(car): #inheritance #child class\n",
    "    def __init__(self,brand,model,battery_size):\n",
    "        super().__init__ (brand,model)\n",
    "        self.battery_size = battery_size\n",
    "\n",
    "mycar1=ElectricCar(\"BMW\",\"Z4\",\"75kwh\")\n",
    "print(mycar1.brand,mycar1.model,mycar1.battery_size)\n",
    "\n",
    "mycar2=ElectricCar(\"MG\",\"Z5\",\"74kwh\")\n",
    "print(mycar2.brand,mycar2.model,mycar2.battery_size)\n",
    "\n",
    "mycar3=ElectricCar(\"Toyota\",\"Fortuner\",\"70kwh\")\n",
    "print(mycar3.brand,mycar3.model,mycar3.battery_size) \n",
    "\n",
    "mycar4=ElectricCar(\"Honda\",\"Civic\",\"80kwh\")\n",
    "print(mycar4.brand,mycar4.model,mycar4.battery_size) \n",
    "    "
   ]
  }
 ],
 "metadata": {
  "kernelspec": {
   "display_name": "Python 3 (ipykernel)",
   "language": "python",
   "name": "python3"
  },
  "language_info": {
   "codemirror_mode": {
    "name": "ipython",
    "version": 3
   },
   "file_extension": ".py",
   "mimetype": "text/x-python",
   "name": "python",
   "nbconvert_exporter": "python",
   "pygments_lexer": "ipython3",
   "version": "3.12.4"
  }
 },
 "nbformat": 4,
 "nbformat_minor": 5
}
