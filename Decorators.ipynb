{
 "cells": [
  {
   "cell_type": "code",
   "execution_count": 4,
   "id": "81482c84-9fbf-4f97-8ef3-661f05656a0f",
   "metadata": {},
   "outputs": [
    {
     "name": "stdout",
     "output_type": "stream",
     "text": [
      "Hello!\n",
      "2Hello!!\n",
      "Start\n"
     ]
    }
   ],
   "source": [
    "def decor(func):\n",
    "    def wrapper():\n",
    "        func()\n",
    "        print(\"Start\")\n",
    "\n",
    "    return wrapper\n",
    "@decor\n",
    "def printer():\n",
    "    print(\"Hello!\")\n",
    "    print(\"2Hello!!\")\n",
    "printer()    "
   ]
  },
  {
   "cell_type": "code",
   "execution_count": 7,
   "id": "f8395126-2192-45a7-9166-ba82a4a6d6b8",
   "metadata": {},
   "outputs": [
    {
     "name": "stdout",
     "output_type": "stream",
     "text": [
      "--------\n",
      "Divya\n",
      "Vanshika\n",
      "--------\n"
     ]
    }
   ],
   "source": [
    "def decor(func):\n",
    "    def wrapper():\n",
    "        print(\"--------\")\n",
    "        func()\n",
    "        print(\"--------\")\n",
    "       \n",
    "\n",
    "    return wrapper\n",
    "@decor\n",
    "def printer():\n",
    "    print(\"Divya\")\n",
    "    print(\"Vanshika\")\n",
    "printer()    \n"
   ]
  },
  {
   "cell_type": "code",
   "execution_count": 11,
   "id": "e7051d3b-d5d5-45bb-a4ce-855eff9ab83e",
   "metadata": {},
   "outputs": [
    {
     "name": "stdout",
     "output_type": "stream",
     "text": [
      "Before the original function\n",
      "Inside original Function\n",
      "After the original function\n"
     ]
    }
   ],
   "source": [
    "def decorator_function(func):\n",
    "    def wrapper():\n",
    "        print(\"Before the original function\")\n",
    "        func()\n",
    "        print(\"After the original function\")\n",
    "    return wrapper\n",
    "@decorator_function\n",
    "def original_function():\n",
    "    print(\"Inside original Function\")\n",
    "    \n",
    "original_function()    \n",
    "    "
   ]
  },
  {
   "cell_type": "code",
   "execution_count": null,
   "id": "a5e677d8-ebae-4a14-9b80-6b71c8d3da9f",
   "metadata": {},
   "outputs": [],
   "source": [
    "#MULTIPLICATION USING DECORATOR"
   ]
  }
 ],
 "metadata": {
  "kernelspec": {
   "display_name": "Python 3 (ipykernel)",
   "language": "python",
   "name": "python3"
  },
  "language_info": {
   "codemirror_mode": {
    "name": "ipython",
    "version": 3
   },
   "file_extension": ".py",
   "mimetype": "text/x-python",
   "name": "python",
   "nbconvert_exporter": "python",
   "pygments_lexer": "ipython3",
   "version": "3.12.7"
  }
 },
 "nbformat": 4,
 "nbformat_minor": 5
}
